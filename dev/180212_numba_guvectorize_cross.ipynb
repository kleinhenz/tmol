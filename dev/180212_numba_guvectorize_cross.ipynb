{
 "cells": [
  {
   "cell_type": "code",
   "execution_count": 2,
   "metadata": {},
   "outputs": [],
   "source": [
    "import numpy"
   ]
  },
  {
   "cell_type": "code",
   "execution_count": 3,
   "metadata": {},
   "outputs": [],
   "source": [
    "import numba\n",
    "from numba import guvectorize, float32, float64"
   ]
  },
  {
   "cell_type": "code",
   "execution_count": 5,
   "metadata": {},
   "outputs": [],
   "source": [
    "@guvectorize([\n",
    "    (float32[:], float32[:], float32[:]),\n",
    "    (float64[:], float64[:], float64[:])],\n",
    "    '(n),(n)->(n)',\n",
    ")\n",
    "def _cross(a, b, out):\n",
    "    \"\"\" Cross product of 3d vectors. \"\"\"\n",
    "    out[0] = a[1] * b[2] - a[2] * b[1]\n",
    "    out[1] = a[2] * b[0] - a[0] * b[2]\n",
    "    out[2] = a[0] * b[1] - a[1] * b[0]\n",
    "\n",
    "def cross(a, b, out=None):\n",
    "    a, b = numpy.broadcast_arrays(a, b)\n",
    "    \n",
    "    if out is None:\n",
    "        out = numpy.empty_like(a)\n",
    "    \n",
    "    assert a.shape[-1] == 3\n",
    "    assert out.shape == a.shape\n",
    "    \n",
    "    _cross(a, b, out)\n",
    "    \n",
    "    return out"
   ]
  },
  {
   "cell_type": "code",
   "execution_count": 13,
   "metadata": {},
   "outputs": [],
   "source": [
    "s = numpy.linspace(0, 2*numpy.pi, 1000)"
   ]
  },
  {
   "cell_type": "code",
   "execution_count": 14,
   "metadata": {},
   "outputs": [],
   "source": [
    "ta = numpy.zeros([1000, 3], dtype=float)\n",
    "ta[:,0] = numpy.sin(s)\n",
    "ta[:,1] = numpy.cos(s)"
   ]
  },
  {
   "cell_type": "code",
   "execution_count": 15,
   "metadata": {},
   "outputs": [
    {
     "name": "stdout",
     "output_type": "stream",
     "text": [
      "3.64 ms ± 47.9 µs per loop (mean ± std. dev. of 7 runs, 100 loops each)\n"
     ]
    }
   ],
   "source": [
    "%%timeit\n",
    "cross(numpy.expand_dims(ta, 0), numpy.expand_dims(ta, 1))"
   ]
  },
  {
   "cell_type": "code",
   "execution_count": 16,
   "metadata": {},
   "outputs": [
    {
     "name": "stdout",
     "output_type": "stream",
     "text": [
      "27.1 ms ± 550 µs per loop (mean ± std. dev. of 7 runs, 10 loops each)\n"
     ]
    }
   ],
   "source": [
    "%%timeit\n",
    "numpy.cross(numpy.expand_dims(ta, 0), numpy.expand_dims(ta, 1))"
   ]
  }
 ],
 "metadata": {
  "kernelspec": {
   "display_name": "Python [conda env:tmol]",
   "language": "python",
   "name": "conda-env-tmol-py"
  },
  "language_info": {
   "codemirror_mode": {
    "name": "ipython",
    "version": 3
   },
   "file_extension": ".py",
   "mimetype": "text/x-python",
   "name": "python",
   "nbconvert_exporter": "python",
   "pygments_lexer": "ipython3",
   "version": "3.5.4"
  },
  "toc": {
   "nav_menu": {},
   "number_sections": true,
   "sideBar": true,
   "skip_h1_title": false,
   "toc_cell": false,
   "toc_position": {},
   "toc_section_display": "block",
   "toc_window_display": false
  }
 },
 "nbformat": 4,
 "nbformat_minor": 2
}
